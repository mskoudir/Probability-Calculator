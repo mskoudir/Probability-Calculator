{
 "cells": [
  {
   "cell_type": "code",
   "execution_count": 2,
   "id": "f9e4aa81",
   "metadata": {},
   "outputs": [],
   "source": [
    "import numpy as np"
   ]
  },
  {
   "cell_type": "markdown",
   "id": "ebda8d8f",
   "metadata": {},
   "source": [
    "random_gen(num_rounds)"
   ]
  },
  {
   "cell_type": "code",
   "execution_count": 153,
   "id": "c85f4086",
   "metadata": {},
   "outputs": [
    {
     "data": {
      "text/plain": [
       "array([[3, 6, 2, 3, 2, 2, 5, 4, 6, 6],\n",
       "       [5, 3, 1, 4, 5, 4, 3, 6, 6, 1]])"
      ]
     },
     "execution_count": 153,
     "metadata": {},
     "output_type": "execute_result"
    }
   ],
   "source": [
    "def random_gen(num_rounds):\n",
    "    dice_rolls_arr = np.zeros(6)\n",
    "    outcome = np.random.randint(6, size=(2,num_rounds)) +1\n",
    "    return(outcome)\n",
    "random_gen(10)"
   ]
  },
  {
   "cell_type": "markdown",
   "id": "2d192608",
   "metadata": {},
   "source": [
    "calc_conditional(dice_rolls_arr, main_event, given_event)"
   ]
  },
  {
   "cell_type": "code",
   "execution_count": 152,
   "id": "884e539b",
   "metadata": {},
   "outputs": [
    {
     "name": "stdout",
     "output_type": "stream",
     "text": [
      "Round 1 : \n",
      "  [[4 4 3 5 4 5 1 3 2 2]\n",
      " [1 4 3 1 2 4 2 1 5 3]]\n",
      "[2. 2. 2. 2. 2. 0.]\n",
      "conditional probability is: 0.01385\n"
     ]
    }
   ],
   "source": [
    "def calc_conditional(dice_rolls_arr, main_event, given_event):\n",
    "    num_rounds = 1\n",
    "    dice_rolls_arr = np.zeros(6)\n",
    "    for round in range(num_rounds):\n",
    "        outcome = np.random.randint(6, size=(2, 10)) +1\n",
    "        dice_rolls_arr[outcome[0] - 1] += 1\n",
    "        dice_rolls_arr[outcome[1] - 1] += 1\n",
    "        print('Round', round + 1, ': \\n ', outcome)\n",
    "    print(dice_rolls_arr)\n",
    "    num_main_given_event = 0.0277    \n",
    "    num_given_event = dice_rolls_arr[given_event - 1]\n",
    "    p_given_event = num_given_event / num_rounds\n",
    "    p_main_given_event = num_main_given_event / p_given_event\n",
    "    print('conditional probability is:' , p_main_given_event)\n",
    "    \n",
    "    \n",
    "calc_conditional('dice_rolls_arr', 6, 5)"
   ]
  },
  {
   "cell_type": "markdown",
   "id": "1ccdf1b2",
   "metadata": {},
   "source": [
    "calc_joint(dice_rolls_arr, main_event, given_event):"
   ]
  },
  {
   "cell_type": "code",
   "execution_count": 193,
   "id": "eb328e64",
   "metadata": {},
   "outputs": [
    {
     "name": "stdout",
     "output_type": "stream",
     "text": [
      "Round 1 : \n",
      "  [[5 4 3 4 3 6 3 2 1 2]\n",
      " [2 4 1 2 4 5 5 1 5 5]]\n",
      "joint probability is : 0.0277\n"
     ]
    }
   ],
   "source": [
    "def calc_joint(dice_rolls_arr, main_event, given_event):\n",
    "    num_rounds = 1\n",
    "    dice_rolls_arr = np.zeros(6)\n",
    "    for round in range(num_rounds):\n",
    "        outcome = np.random.randint(6, size=(2, 10)) +1\n",
    "        dice_rolls_arr[outcome[0] - 1] += 1\n",
    "        dice_rolls_arr[outcome[1] - 1] += 1\n",
    "        print('Round', round + 1, ': \\n ', outcome)\n",
    "    num_main_given_event = 0.0277    \n",
    "    num_given_event = dice_rolls_arr[given_event-1]\n",
    "    p_given_event = num_given_event / num_rounds\n",
    "    p_main_given_event = num_main_given_event / p_given_event\n",
    "    p_joint = p_given_event * p_main_given_event\n",
    "    print('joint probability is :', p_joint)\n",
    "    \n",
    "calc_joint('dice_rolls_arr', 1, 5)"
   ]
  },
  {
   "cell_type": "markdown",
   "id": "a2e4a6b8",
   "metadata": {},
   "source": [
    "test(num_rounds, dice_rolls_arr, main_event, given_event)"
   ]
  },
  {
   "cell_type": "code",
   "execution_count": 199,
   "id": "eb08169a",
   "metadata": {},
   "outputs": [
    {
     "name": "stdout",
     "output_type": "stream",
     "text": [
      "Round 1 : \n",
      "  [[4 2 6 2 1 2 1 1 5 6]\n",
      " [4 3 1 5 1 1 2 2 4 1]]\n",
      "conditional probability is: 0.0277\n",
      "joint probability is : 0.0277\n"
     ]
    }
   ],
   "source": [
    "def test(dice_rolls_arr, main_event, given_event):\n",
    "    num_rounds = 1\n",
    "    dice_rolls_arr = np.zeros(6)\n",
    "    for round in range(num_rounds):\n",
    "        outcome = np.random.randint(6, size=(2, 10)) +1\n",
    "        dice_rolls_arr[outcome[0] - 1] += 1\n",
    "        dice_rolls_arr[outcome[1] - 1] += 1\n",
    "        print('Round', round + 1, ': \\n ', outcome)\n",
    "    num_main_given_event = 0.0277    \n",
    "    num_given_event = dice_rolls_arr[given_event-1]\n",
    "    p_given_event = num_given_event / num_rounds\n",
    "    p_main_given_event = num_main_given_event / p_given_event\n",
    "    print('conditional probability is:' , p_main_given_event)\n",
    "    p_joint = p_given_event * p_main_given_event\n",
    "    print('joint probability is :', p_joint)\n",
    "    \n",
    "test('dice_rolls_arr', 4, 6)"
   ]
  },
  {
   "cell_type": "code",
   "execution_count": null,
   "id": "9aa2bf51",
   "metadata": {},
   "outputs": [],
   "source": []
  }
 ],
 "metadata": {
  "kernelspec": {
   "display_name": "Python 3 (ipykernel)",
   "language": "python",
   "name": "python3"
  },
  "language_info": {
   "codemirror_mode": {
    "name": "ipython",
    "version": 3
   },
   "file_extension": ".py",
   "mimetype": "text/x-python",
   "name": "python",
   "nbconvert_exporter": "python",
   "pygments_lexer": "ipython3",
   "version": "3.9.7"
  }
 },
 "nbformat": 4,
 "nbformat_minor": 5
}
